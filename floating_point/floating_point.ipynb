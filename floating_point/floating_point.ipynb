{
 "cells": [
  {
   "cell_type": "code",
   "execution_count": null,
   "metadata": {},
   "outputs": [],
   "source": [
    "# TODO: Intro to this notebook"
   ]
  },
  {
   "cell_type": "code",
   "execution_count": 1,
   "metadata": {},
   "outputs": [],
   "source": [
    "# TODO: Notebook validation cell"
   ]
  },
  {
   "cell_type": "code",
   "execution_count": 4,
   "metadata": {},
   "outputs": [],
   "source": [
    "# TODO: IEEE-574 description\n",
    "\n",
    "# 1st bit = sign bit\n",
    "# 8 following bits for the exponent\n",
    "# then the 23 remaining bits for mantissa"
   ]
  },
  {
   "cell_type": "markdown",
   "metadata": {},
   "source": [
    "<pre><span class=\"anchor\" id=\"line-1\"></span>bit  31 30    23 22                    0\n",
    "<span class=\"anchor\" id=\"line-2\"></span>     S  EEEEEEEE MMMMMMMMMMMMMMMMMMMMMMM</pre>"
   ]
  },
  {
   "cell_type": "markdown",
   "metadata": {},
   "source": [
    "The sign bit\n",
    "\n",
    "In general, if the sign bit is 1, its a positive number.  If 0, then its negative.\n",
    "\n",
    "The exceptions to this rule are as follows:\n",
    "\n",
    "The value of zero can be represented two ways:\n",
    "\n",
    "   0 = 0 00000000 00000000000000000000000\n",
    "   \n",
    "  -0 = 1 00000000 00000000000000000000000\n",
    "\n",
    "The value of infinity, -infinity, NAN are as follows:\n",
    "\n",
    " inf = 0 11111111 00000000000000000000000\n",
    " \n",
    "-inf = 1 11111111 00000000000000000000000\n",
    "\n",
    " nan = 0 11111111 10000000000000000000000"
   ]
  },
  {
   "cell_type": "markdown",
   "metadata": {},
   "source": [
    "The exponent bits:\n",
    "\n",
    "In IEEE-574, the exponents bits are in \"excess-127\" format.  Basically, convert it to decimal and subtract 127.  \n",
    "Assuming a binary base, this gives us a large numeric range.  Some exponents bits are reserved for special values, as follows:\n",
    "\n",
    "   0 = 0 00000000 00000000000000000000000\n",
    "   \n",
    "  -0 = 1 00000000 00000000000000000000000\n",
    "\n",
    " inf = 0 11111111 00000000000000000000000\n",
    " \n",
    "-inf = 1 11111111 00000000000000000000000\n",
    "\n",
    " nan = 0 11111111 10000000000000000000000\n",
    "\n",
    "Since 00000000 is reserved, the minimum value of the exponent is (00000001 - 127 ) = ( 1 - 127 ) = -126\n",
    "\n",
    "Since 11111111 is reserved, the max value of the exponent is (11111110 - 127 ) = ( 254 - 127 ) = 127\n",
    "\n",
    "So, from just the exponent alone, this gives us a numeric range of 2^(-126) to 2^(127)"
   ]
  },
  {
   "cell_type": "code",
   "execution_count": 5,
   "metadata": {},
   "outputs": [],
   "source": [
    "# Here are some examples"
   ]
  },
  {
   "cell_type": "markdown",
   "metadata": {},
   "source": [
    "<pre><span class=\"anchor\" id=\"line-1-1\"></span>         0 =                        0 = 0 00000000 00000000000000000000000\n",
    "<span class=\"anchor\" id=\"line-2-1\"></span>        -0 =                       -0 = 1 00000000 00000000000000000000000\n",
    "<span class=\"anchor\" id=\"line-3\"></span>     0.125 =                    0.125 = 0 01111100 00000000000000000000000\n",
    "<span class=\"anchor\" id=\"line-4\"></span>      0.25 =                     0.25 = 0 01111101 00000000000000000000000\n",
    "<span class=\"anchor\" id=\"line-5\"></span>       0.5 =                      0.5 = 0 01111110 00000000000000000000000\n",
    "<span class=\"anchor\" id=\"line-6\"></span>         1 =                        1 = 0 01111111 00000000000000000000000\n",
    "<span class=\"anchor\" id=\"line-7\"></span>         2 =                        2 = 0 10000000 00000000000000000000000\n",
    "<span class=\"anchor\" id=\"line-8\"></span>         4 =                        4 = 0 10000001 00000000000000000000000\n",
    "<span class=\"anchor\" id=\"line-9\"></span>         8 =                        8 = 0 10000010 00000000000000000000000\n",
    "<span class=\"anchor\" id=\"line-10\"></span>     0.375 =                    0.375 = 0 01111101 10000000000000000000000\n",
    "<span class=\"anchor\" id=\"line-11\"></span>      0.75 =                     0.75 = 0 01111110 10000000000000000000000\n",
    "<span class=\"anchor\" id=\"line-12\"></span>       1.5 =                      1.5 = 0 01111111 10000000000000000000000\n",
    "<span class=\"anchor\" id=\"line-13\"></span>         3 =                        3 = 0 10000000 10000000000000000000000\n",
    "<span class=\"anchor\" id=\"line-14\"></span>         6 =                        6 = 0 10000001 10000000000000000000000\n",
    "<span class=\"anchor\" id=\"line-15\"></span>       0.1 =      0.10000000149011612 = 0 01111011 10011001100110011001101\n",
    "<span class=\"anchor\" id=\"line-16\"></span>       0.2 =      0.20000000298023224 = 0 01111100 10011001100110011001101\n",
    "<span class=\"anchor\" id=\"line-17\"></span>       0.4 =      0.40000000596046448 = 0 01111101 10011001100110011001101\n",
    "<span class=\"anchor\" id=\"line-18\"></span>       0.8 =      0.80000001192092896 = 0 01111110 10011001100110011001101\n",
    "<span class=\"anchor\" id=\"line-19\"></span>     1e+12 =             999999995904 = 0 10100110 11010001101010010100101\n",
    "<span class=\"anchor\" id=\"line-20\"></span>     1e+24 =   1.0000000138484279e+24 = 0 11001110 10100111100001000011100\n",
    "<span class=\"anchor\" id=\"line-21\"></span>     1e+36 =   9.9999996169031625e+35 = 0 11110110 10000001001011111001110\n",
    "<span class=\"anchor\" id=\"line-22\"></span>       inf =                      inf = 0 11111111 00000000000000000000000\n",
    "<span class=\"anchor\" id=\"line-23\"></span>      -inf =                     -inf = 1 11111111 00000000000000000000000\n",
    "<span class=\"anchor\" id=\"line-24\"></span>       nan =                      nan = 0 11111111 10000000000000000000000</pre>"
   ]
  },
  {
   "cell_type": "code",
   "execution_count": 51,
   "metadata": {},
   "outputs": [
    {
     "name": "stdout",
     "output_type": "stream",
     "text": [
      "exponent 10000001 8 129 2 4.0\n",
      "m list all [(0, 2, 2.0, 0.5)]\n",
      "m list [0.5] 0.5\n",
      "mantissa 10000000000000000000000 23 0.5\n",
      "val= 6.0\n",
      "exponent 01111101 8 125 -2 0.25\n",
      "m list all [(0, 2, 2.0, 0.5)]\n",
      "m list [0.5] 0.5\n",
      "mantissa 10000000000000000000000 23 0.5\n",
      "val= 0.375\n",
      "exponent 01111100 8 124 -3 0.125\n",
      "m list all []\n",
      "m list [] 0\n",
      "mantissa 00000000000000000000000 23 0\n",
      "val= 0.125\n",
      "0 01111011 10011001100110011001101\n",
      "exponent 01111011 8 123 -4 0.0625\n",
      "m list all [(0, 2, 2.0, 0.5), (3, 5, 16.0, 0.0625), (4, 6, 32.0, 0.03125), (7, 9, 256.0, 0.00390625), (8, 10, 512.0, 0.001953125), (11, 13, 4096.0, 0.000244140625), (12, 14, 8192.0, 0.0001220703125), (15, 17, 65536.0, 1.52587890625e-05), (16, 18, 131072.0, 7.62939453125e-06), (19, 21, 1048576.0, 9.5367431640625e-07), (20, 22, 2097152.0, 4.76837158203125e-07), (22, 24, 8388608.0, 1.1920928955078125e-07)]\n",
      "m list [0.5, 0.0625, 0.03125, 0.00390625, 0.001953125, 0.000244140625, 0.0001220703125, 1.52587890625e-05, 7.62939453125e-06, 9.5367431640625e-07, 4.76837158203125e-07, 1.1920928955078125e-07] 0.6000000238418579\n",
      "mantissa 10011001100110011001101 23 0.6000000238418579\n",
      "val= 0.10000000149011612\n",
      "exponent 10100110 8 166 39 549755813888.0\n",
      "m list all [(0, 2, 2.0, 0.5), (1, 3, 4.0, 0.25), (3, 5, 16.0, 0.0625), (7, 9, 256.0, 0.00390625), (8, 10, 512.0, 0.001953125), (10, 12, 2048.0, 0.00048828125), (12, 14, 8192.0, 0.0001220703125), (15, 17, 65536.0, 1.52587890625e-05), (17, 19, 262144.0, 3.814697265625e-06), (20, 22, 2097152.0, 4.76837158203125e-07), (22, 24, 8388608.0, 1.1920928955078125e-07)]\n",
      "m list [0.5, 0.25, 0.0625, 0.00390625, 0.001953125, 0.00048828125, 0.0001220703125, 1.52587890625e-05, 3.814697265625e-06, 4.76837158203125e-07, 1.1920928955078125e-07] 0.8189893960952759\n",
      "mantissa 11010001101010010100101 23 0.8189893960952759\n",
      "val= 999999995904.0\n"
     ]
    }
   ],
   "source": [
    "import math\n",
    "\n",
    "def validate_fp( str_rep):\n",
    "    if len(str_rep)!=32:\n",
    "        raise Exception(\"Invalid str length\")\n",
    "    sign = str_rep[0]\n",
    "    #print(\"sign\",sign,len(sign))\n",
    "    exponent = str_rep[1:9]\n",
    "    exp_pre = int( exponent, 2)\n",
    "    exp_int = int( exponent, 2) - 127\n",
    "    exp_val = math.pow(2,exp_int)\n",
    "    \n",
    "    print(\"exponent\",exponent, len(exponent), exp_pre, exp_int, exp_val )\n",
    "    mantissa = str_rep[9:]\n",
    "    man_lst_all = [ (i, i+2, math.pow(2, int(i+1)), 1.0/( math.pow(2, int(i+1)) )) for i in range(len(mantissa)) if mantissa[i]==\"1\" ]\n",
    "    print(\"m list all\", man_lst_all)\n",
    "    man_lst = [ 1.0/( math.pow(2, int(i+1)) ) for i in range(len(mantissa)) if mantissa[i]==\"1\" ]\n",
    "    man_frac = sum(man_lst)\n",
    "    print(\"m list\", man_lst, man_frac)\n",
    "    print(\"mantissa\",mantissa, len(mantissa), man_frac)\n",
    "    \n",
    "    val = (1.0 + man_frac) * math.pow(2, exp_int)\n",
    "    print(\"val=\", val)\n",
    "    return val\n",
    "    \n",
    "val = validate_fp(\"01000000110000000000000000000000\")\n",
    "if val!=6.0:\n",
    "    raise Exception(\"invalid fp\")\n",
    "val = validate_fp(\"00111110110000000000000000000000\")\n",
    "if val!=0.375:\n",
    "    raise Exception(\"invalid fp\")\n",
    "val = validate_fp(\"00111110000000000000000000000000\")\n",
    "if val!=0.125:\n",
    "    raise Exception(\"invalid fp\")\n",
    "    \n",
    "print(\"0 01111011 10011001100110011001101\")\n",
    "val = validate_fp(\"00111101110011001100110011001101\")\n",
    "if val!=0.10000000149011612:\n",
    "    raise Exception(\"invalid fp\")\n",
    "    \n",
    "val = validate_fp(\"01010011011010001101010010100101\")\n",
    "if val!=999999995904:\n",
    "    raise Exception(\"invalid fp\")"
   ]
  },
  {
   "cell_type": "code",
   "execution_count": null,
   "metadata": {},
   "outputs": [],
   "source": []
  }
 ],
 "metadata": {
  "kernelspec": {
   "display_name": "Python 3",
   "language": "python",
   "name": "python3"
  },
  "language_info": {
   "codemirror_mode": {
    "name": "ipython",
    "version": 3
   },
   "file_extension": ".py",
   "mimetype": "text/x-python",
   "name": "python",
   "nbconvert_exporter": "python",
   "pygments_lexer": "ipython3",
   "version": "3.8.3"
  }
 },
 "nbformat": 4,
 "nbformat_minor": 4
}
